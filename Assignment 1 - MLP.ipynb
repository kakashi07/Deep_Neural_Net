{
 "cells": [
  {
   "cell_type": "code",
   "execution_count": 23,
   "id": "2752f21e",
   "metadata": {},
   "outputs": [],
   "source": [
    "import numpy as np\n",
    "class MLP:\n",
    "    \n",
    "    def __init__(self):\n",
    "        pass\n",
    "    \n",
    "    def forward(self,X):\n",
    "        '''receives input of n*input_units and returns output of d*output_units\n",
    "            In this case, it returns same \n",
    "        '''\n",
    "        return X\n",
    "    \n",
    "    def backward(self,X,grad_output):\n",
    "        \n",
    "        return X\n",
    "    \n",
    "class RELU(MLP):\n",
    "    def __init__(Layer):\n",
    "        pass\n",
    "    \n",
    "    def forward(self,input):\n",
    "        relu_forward = np.maximum(0,input)\n",
    "        return relu_forward\n",
    "    \n",
    "    def backward(self,input,grad_output):\n",
    "        relu_grad = input >0\n",
    "        return grad_output *relu_grad\n",
    "    "
   ]
  },
  {
   "cell_type": "code",
   "execution_count": 4,
   "id": "2865d3e5",
   "metadata": {},
   "outputs": [
    {
     "data": {
      "text/plain": [
       "array([[1., 0.]])"
      ]
     },
     "execution_count": 4,
     "metadata": {},
     "output_type": "execute_result"
    }
   ],
   "source": [
    "np.eye(1,2)"
   ]
  },
  {
   "cell_type": "code",
   "execution_count": 17,
   "id": "b3d2ee60",
   "metadata": {},
   "outputs": [],
   "source": [
    "x = np.random.randn(2,3)"
   ]
  },
  {
   "cell_type": "code",
   "execution_count": 18,
   "id": "f562f1ce",
   "metadata": {},
   "outputs": [
    {
     "data": {
      "text/plain": [
       "array([2.02879283, 0.        , 0.37021982])"
      ]
     },
     "execution_count": 18,
     "metadata": {},
     "output_type": "execute_result"
    }
   ],
   "source": [
    "np.maximum(0,x[0])"
   ]
  },
  {
   "cell_type": "code",
   "execution_count": 19,
   "id": "11249d71",
   "metadata": {},
   "outputs": [
    {
     "data": {
      "text/plain": [
       "array([[ 2.02879283, -1.04588148,  0.37021982],\n",
       "       [ 1.15851949, -1.28931149,  0.09323267]])"
      ]
     },
     "execution_count": 19,
     "metadata": {},
     "output_type": "execute_result"
    }
   ],
   "source": [
    "x"
   ]
  },
  {
   "cell_type": "code",
   "execution_count": 22,
   "id": "5b93305d",
   "metadata": {},
   "outputs": [
    {
     "data": {
      "text/plain": [
       "array([[ 2.02879283, -0.        ,  0.37021982],\n",
       "       [ 1.15851949, -0.        ,  0.09323267]])"
      ]
     },
     "execution_count": 22,
     "metadata": {},
     "output_type": "execute_result"
    }
   ],
   "source": [
    "x*(x>0)"
   ]
  },
  {
   "cell_type": "code",
   "execution_count": null,
   "id": "8a523eb3",
   "metadata": {},
   "outputs": [],
   "source": []
  }
 ],
 "metadata": {
  "kernelspec": {
   "display_name": "Python 3 (ipykernel)",
   "language": "python",
   "name": "python3"
  },
  "language_info": {
   "codemirror_mode": {
    "name": "ipython",
    "version": 3
   },
   "file_extension": ".py",
   "mimetype": "text/x-python",
   "name": "python",
   "nbconvert_exporter": "python",
   "pygments_lexer": "ipython3",
   "version": "3.9.12"
  }
 },
 "nbformat": 4,
 "nbformat_minor": 5
}
